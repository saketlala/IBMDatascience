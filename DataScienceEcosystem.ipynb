{
 "cells": [
  {
   "cell_type": "markdown",
   "id": "28aafcd8-f26b-4b75-a992-9ae696480ef1",
   "metadata": {},
   "source": [
    "# Data Science Tools and Ecosystem"
   ]
  },
  {
   "cell_type": "markdown",
   "id": "145d3d68-9bb3-4dc2-a75a-b13c20e1fdee",
   "metadata": {},
   "source": [
    "In this notebook, Data Science Tools and Ecosystem are summarized."
   ]
  },
  {
   "cell_type": "markdown",
   "id": "859baac4-083d-47e1-bcf1-539777408f70",
   "metadata": {},
   "source": [
    "Some of the popular languages that Data Scientists use are:\n",
    "1. Python\n",
    "2. R\n",
    "3. SQL"
   ]
  },
  {
   "cell_type": "markdown",
   "id": "2026203e-8eb0-4e53-9911-e7dc2d95cf66",
   "metadata": {},
   "source": [
    "Some of the commonly used libraries used by Data Scientists include:\n",
    "1. TensorFlow\n",
    "2. NumPy\n",
    "3. SciKit-Learn\n",
    "4. SciPy\n",
    "5. Pandas\n",
    "6. MatplotlibyTorch."
   ]
  },
  {
   "cell_type": "markdown",
   "id": "1547d731-5a5f-492b-8082-4480e7cd4277",
   "metadata": {},
   "source": [
    "|Data Science Tools|\n",
    "| --- |\n",
    "| Apache Spark |\n",
    "| Julia |\n",
    "| Jupyter Notebook |"
   ]
  },
  {
   "cell_type": "markdown",
   "id": "e96f8fa6-d781-41fa-98c3-484fa0268f06",
   "metadata": {},
   "source": [
    "### Below are a few examples of evaluating arithmetic expressions in Python"
   ]
  },
  {
   "cell_type": "code",
   "execution_count": 7,
   "id": "8a1ac6ca-d9e0-4c41-83a7-1f71c9b21a87",
   "metadata": {},
   "outputs": [
    {
     "data": {
      "text/plain": [
       "17"
      ]
     },
     "execution_count": 7,
     "metadata": {},
     "output_type": "execute_result"
    }
   ],
   "source": [
    "# This a simple arithmetic expression to mutiply then add integers\n",
    "(3*4)+5"
   ]
  },
  {
   "cell_type": "code",
   "execution_count": 8,
   "id": "8fd82b47-0f72-4174-9e87-b397da532bb2",
   "metadata": {},
   "outputs": [
    {
     "data": {
      "text/plain": [
       "3.3333333333333335"
      ]
     },
     "execution_count": 8,
     "metadata": {},
     "output_type": "execute_result"
    }
   ],
   "source": [
    "#This will convert 200 minutes to hours by diving by 60\n",
    "200/60"
   ]
  },
  {
   "cell_type": "markdown",
   "id": "90b532df-2957-45d8-b77f-a95665cdebb4",
   "metadata": {},
   "source": [
    "<b>Objectives:</b>\n",
    "- List of popular languages for Data Science\n",
    "- List of popular libraries used by Data Scientists\n",
    "- Some common data science Tools\n",
    "- Using headers and ordered and unordered lists in markdowns\n",
    "- Peforming sample arithemetic operations"
   ]
  },
  {
   "cell_type": "markdown",
   "id": "90b4b7cf-e692-42ff-ada0-3b93df5dedd3",
   "metadata": {},
   "source": [
    "## Author :\n",
    "Saket Lala"
   ]
  },
  {
   "cell_type": "code",
   "execution_count": null,
   "id": "35c489eb-464d-4317-8908-1fab77ed7891",
   "metadata": {},
   "outputs": [],
   "source": []
  }
 ],
 "metadata": {
  "kernelspec": {
   "display_name": "Python 3 (ipykernel)",
   "language": "python",
   "name": "python3"
  },
  "language_info": {
   "codemirror_mode": {
    "name": "ipython",
    "version": 3
   },
   "file_extension": ".py",
   "mimetype": "text/x-python",
   "name": "python",
   "nbconvert_exporter": "python",
   "pygments_lexer": "ipython3",
   "version": "3.12.4"
  }
 },
 "nbformat": 4,
 "nbformat_minor": 5
}
